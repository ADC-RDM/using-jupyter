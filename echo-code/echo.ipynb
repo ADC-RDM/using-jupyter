{
 "cells": [
  {
   "cell_type": "markdown",
   "id": "55818a26-9650-472d-a95c-6610ec1abfb2",
   "metadata": {},
   "source": [
    "# Using Jupyter Lab\n",
    "\n",
    "**Event:** RDM & TDM in JupyterHub with Newspapers<br>\n",
    "**Workshop:** Workshop 1<br>\n",
    "**Date:** Tuesday, February 21, 2023<br>\n",
    "\n",
    "**Workshop Abstract:**\n",
    "> This workshop will introduce researchers to Jupyter Lab using SHARCNET's and the Digital Research Alliance of Canada's JupyterHub portals. This workshop will cover various details including discussing what is and how to obtain a Digital Research Alliance of Canada account, understanding the purposes of electronic notebooks, how to use Jupyer Lab on these portals including how to find and load various pre-installed softwares with your notebooks. (Attendees will not need a Digital Research Alliance of Canada account in this workshop or in the next two workshops in the RDM & TDM in JupyterHub with Newspapers series. Guest account login and passwords will be provided to in-person attendees.)\n",
    "\n",
    "This notebook covers writing Markdown text in a Jupyter Notebook.\n",
    "\n",
    "**Presenter:** Paul Preney, High Performance Computing Technical Consultant, [SHARCNET](https://www.sharcnet.ca) / [University of Windsor](https://www.uwindsor.ca), <a href=\"mailto:preney@sharcnet.ca\">preney@sharcnet.ca</a> or <a href=\"mailto:preney@uwindsor.ca\">preney@uwindsor.ca</a>\n",
    "\n",
    "**Presenter Bio:**\n",
    "> Mr. Preney has an Honours B.Sc. (Biology and Computer Science); M.Sc. (Computer Science); B.Ed. (Teachables: Biology and Computer Science); and is an [Ontario Certified Teacher (OCT)](https://apps.oct.ca/FindATeacher/memberdetail?id=501164). He is also a member of the [Standards Council of Canada (SCC)](https://www.scc.ca) Mirror Committee to SMC/JTC 1/SC 22 (Programming languages) and is a Subject Matter Expert of the SCC Mirror Cmte to SMC/JTC 1/SC 22/WG 21 (C++). He has taught courses at the secondary level and as a sessional instructor in Computer Science and Education at the University of Windsor. Mr. Preney is currently the University of Windsor on-campus SHARCNET staff person for supporting researchers and their high-performance, advanced, storage, and cloud computing needs."
   ]
  },
  {
   "cell_type": "code",
   "execution_count": 1,
   "id": "3c8ad942-365c-4b13-96b9-5fd5b33cdca1",
   "metadata": {},
   "outputs": [],
   "source": [
    "import os\n",
    "import re\n",
    "import codecs\n",
    "\n",
    "# Amherstburg Echo files location on SHARCNET's Graham cluster...\n",
    "rootdir = \"/home/preney/public/uwindsor-echo/echo\"\n",
    "\n",
    "# Directory for 1879 October files...\n",
    "date187910 = rootdir + '/1879_10'\n",
    "\n",
    "def list_files(dir):\n",
    "    retval = []\n",
    "    for root, dirs, files in os.walk(dir):\n",
    "        for name in files:\n",
    "            retval.append(os.path.join(root,name))\n",
    "    return retval\n",
    "\n",
    "all_files = list_files(date187910);\n",
    "#all_files = list_files(rootdir);"
   ]
  },
  {
   "cell_type": "code",
   "execution_count": 4,
   "id": "78995060-cc5e-4c44-b519-118d47d09231",
   "metadata": {},
   "outputs": [
    {
     "name": "stdout",
     "output_type": "stream",
     "text": [
      "There are 39061 files.\n",
      "CPU times: user 19 µs, sys: 1 µs, total: 20 µs\n",
      "Wall time: 22.2 µs\n"
     ]
    }
   ],
   "source": [
    "%%time\n",
    "print(\"There are\",len(all_files),\"files.\")"
   ]
  },
  {
   "cell_type": "code",
   "execution_count": 5,
   "id": "27aa6b1b-a2fe-414b-a59c-4cf6104401da",
   "metadata": {},
   "outputs": [
    {
     "name": "stdout",
     "output_type": "stream",
     "text": [
      "206477568\n",
      "CPU times: user 55.5 s, sys: 256 ms, total: 55.8 s\n",
      "Wall time: 55.9 s\n"
     ]
    }
   ],
   "source": [
    "%%time\n",
    "def count_words(fname):\n",
    "    num_words = 0\n",
    "    with open(fname, mode='r', encoding='utf-8') as f:\n",
    "        for line in f:\n",
    "            words = re.split(u'[\\s,]+', line, flags=re.UNICODE)\n",
    "            num_words += len(words)\n",
    "    return num_words\n",
    "\n",
    "#one_file = rootdir + '/1879_10/1879-10-03-0001.txt'\n",
    "#print(count_words(one_file))\n",
    "\n",
    "total_num_words = 0\n",
    "for f in all_files:\n",
    "    #print('Processing file:',os.path.basename(f))\n",
    "    try:\n",
    "        total_num_words += count_words(f)  \n",
    "    except:\n",
    "        print('Error with file:',f)\n",
    "        pass\n",
    "    #print('current total:',total_num_words)\n",
    "print(total_num_words)"
   ]
  },
  {
   "cell_type": "code",
   "execution_count": null,
   "id": "ef85c8ee-0e5f-413e-93cf-c37616f30d90",
   "metadata": {},
   "outputs": [],
   "source": []
  }
 ],
 "metadata": {
  "kernelspec": {
   "display_name": "Python 3 (ipykernel)",
   "language": "python",
   "name": "python3"
  },
  "language_info": {
   "codemirror_mode": {
    "name": "ipython",
    "version": 3
   },
   "file_extension": ".py",
   "mimetype": "text/x-python",
   "name": "python",
   "nbconvert_exporter": "python",
   "pygments_lexer": "ipython3",
   "version": "3.10.10"
  }
 },
 "nbformat": 4,
 "nbformat_minor": 5
}
